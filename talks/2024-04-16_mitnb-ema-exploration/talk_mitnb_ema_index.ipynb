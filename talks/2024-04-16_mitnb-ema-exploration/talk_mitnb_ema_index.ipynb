{
  "cells": [
    {
      "cell_type": "raw",
      "metadata": {},
      "source": [
        "---\n",
        "title: \"Exploration of Ecological Momentary Assessment Data\"\n",
        "author: \"Björn Siepe\"\n",
        "date: \"2024-04-16\"\n",
        "categories: [EMA, Data Visualization, Time Series]\n",
        "image: \"ema_item_exploration_image.png\"\n",
        "description: \"Online talk at the MITNB Meeting\"\n",
        "comments: false\n",
        "execute:\n",
        "  freeze: true\n",
        "cv:\n",
        "  pdf: \"MITNB2024_item-validation_slides.pdf\"\n",
        "---"
      ],
      "id": "cee60cd6"
    },
    {
      "cell_type": "markdown",
      "metadata": {},
      "source": [
        "The preprint associated with the talk is available at [PsyArXiv](https://osf.io/preprints/psyarxiv/dvj8g).\n",
        "\n",
        "\n",
        "\n",
        "\n",
        "```{css echo=FALSE}\n",
        ".embed-container {\n",
        "    position: relative;\n",
        "    padding-bottom: 100%;\n",
        "    height: 0;\n",
        "    overflow: hidden;\n",
        "    max-width: 100%;\n",
        "}\n",
        ".embed-container iframe,\n",
        ".embed-container object,\n",
        ".embed-container embed {\n",
        "    position: absolute;\n",
        "    top: 0;\n",
        "    left: 0;\n",
        "    width: 80%;\n",
        "    height: 80%;\n",
        "}\n",
        "```\n",
        "\n",
        "```{=html}\n",
        "<p class=\"text-center\">\n",
        "  <a class=\"btn btn-primary btn-lg cv-download\" href=\"`r rmarkdown::metadata$cv$pdf`\" target=\"_blank\">\n",
        "    <i class=\"fa-solid fa-file-arrow-down\"></i>&ensp;Download Slides\n",
        "  </a>\n",
        "</p>\n",
        "<div class=\"embed-container\">\n",
        "  <iframe src=\"`r rmarkdown::metadata$cv$pdf`\" style=\"border: 0.5px\"></iframe>\n",
        "</div>\n",
        "```"
      ],
      "id": "64c5dc46"
    }
  ],
  "metadata": {
    "kernelspec": {
      "display_name": "Python 3",
      "language": "python",
      "name": "python3"
    }
  },
  "nbformat": 4,
  "nbformat_minor": 5
}