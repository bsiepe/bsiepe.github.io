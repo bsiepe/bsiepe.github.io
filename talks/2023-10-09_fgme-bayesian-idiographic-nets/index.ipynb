{
  "cells": [
    {
      "cell_type": "raw",
      "metadata": {},
      "source": [
        "---\n",
        "title: \"Bayesian Estimation and Comparison of Idiographic Network Models\"\n",
        "author: \"Björn Siepe\"\n",
        "date: \"2023-09-12\"\n",
        "categories: [Bayes, Network Analysis, Time Series]\n",
        "image: \"empirical-nets.png\"\n",
        "description: \"Symposium talk at the FGME (Quantitative Methods Subgroup of the German Psychological Association) 2023 (Konstanz, Germany).\"\n",
        "slides:\n",
        "  - pdf: \"FGME_2023_Presentation.pdf\"\n",
        "---"
      ],
      "id": "1852290d"
    },
    {
      "cell_type": "markdown",
      "metadata": {},
      "source": [
        "Find slides below: \n",
        "\n",
        "```{css echo=FALSE}\n",
        ".embed-container {\n",
        "    position: relative;\n",
        "    padding-bottom: 100%;\n",
        "    height: 0;\n",
        "    overflow: hidden;\n",
        "    max-width: 100%;\n",
        "}\n",
        ".embed-container iframe,\n",
        ".embed-container object,\n",
        ".embed-container embed {\n",
        "    position: absolute;\n",
        "    top: 0;\n",
        "    left: 0;\n",
        "    width: 80%;\n",
        "    height: 80%;\n",
        "}\n",
        "```\n",
        "\n",
        "```{=html}\n",
        "<p class=\"text-center\">\n",
        "  <a class=\"btn btn-primary btn-lg slides-download\" href=\"`r rmarkdown::metadata$slides$pdf`\" target=\"_blank\">\n",
        "    <i class=\"fa-solid fa-file-arrow-down\"></i>&ensp;Download Slides\n",
        "  </a>\n",
        "</p>\n",
        "<div class=\"embed-container\">\n",
        "  <iframe src=\"`r rmarkdown::metadata$cv$pdf`\" style=\"border: 0.5px\"></iframe>\n",
        "</div>\n",
        "```"
      ],
      "id": "352e27c4"
    }
  ],
  "metadata": {
    "kernelspec": {
      "name": "python3",
      "language": "python",
      "display_name": "Python 3 (ipykernel)"
    }
  },
  "nbformat": 4,
  "nbformat_minor": 5
}